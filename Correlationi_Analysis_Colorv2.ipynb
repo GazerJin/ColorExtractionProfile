{
 "cells": [
  {
   "cell_type": "code",
   "execution_count": 1,
   "metadata": {},
   "outputs": [
    {
     "name": "stdout",
     "output_type": "stream",
     "text": [
      "Collecting statsmodels\n",
      "  Downloading statsmodels-0.14.4-cp310-cp310-win_amd64.whl.metadata (9.5 kB)\n",
      "Requirement already satisfied: numpy<3,>=1.22.3 in c:\\users\\yesha\\appdata\\local\\packages\\pythonsoftwarefoundation.python.3.10_qbz5n2kfra8p0\\localcache\\local-packages\\python310\\site-packages (from statsmodels) (2.1.1)\n",
      "Requirement already satisfied: scipy!=1.9.2,>=1.8 in c:\\users\\yesha\\appdata\\local\\packages\\pythonsoftwarefoundation.python.3.10_qbz5n2kfra8p0\\localcache\\local-packages\\python310\\site-packages (from statsmodels) (1.14.1)\n",
      "Requirement already satisfied: pandas!=2.1.0,>=1.4 in c:\\users\\yesha\\appdata\\local\\packages\\pythonsoftwarefoundation.python.3.10_qbz5n2kfra8p0\\localcache\\local-packages\\python310\\site-packages (from statsmodels) (2.2.3)\n",
      "Collecting patsy>=0.5.6 (from statsmodels)\n",
      "  Using cached patsy-1.0.1-py2.py3-none-any.whl.metadata (3.3 kB)\n",
      "Requirement already satisfied: packaging>=21.3 in c:\\users\\yesha\\appdata\\local\\packages\\pythonsoftwarefoundation.python.3.10_qbz5n2kfra8p0\\localcache\\local-packages\\python310\\site-packages (from statsmodels) (23.2)\n",
      "Requirement already satisfied: python-dateutil>=2.8.2 in c:\\users\\yesha\\appdata\\local\\packages\\pythonsoftwarefoundation.python.3.10_qbz5n2kfra8p0\\localcache\\local-packages\\python310\\site-packages (from pandas!=2.1.0,>=1.4->statsmodels) (2.8.2)\n",
      "Requirement already satisfied: pytz>=2020.1 in c:\\users\\yesha\\appdata\\local\\packages\\pythonsoftwarefoundation.python.3.10_qbz5n2kfra8p0\\localcache\\local-packages\\python310\\site-packages (from pandas!=2.1.0,>=1.4->statsmodels) (2024.2)\n",
      "Requirement already satisfied: tzdata>=2022.7 in c:\\users\\yesha\\appdata\\local\\packages\\pythonsoftwarefoundation.python.3.10_qbz5n2kfra8p0\\localcache\\local-packages\\python310\\site-packages (from pandas!=2.1.0,>=1.4->statsmodels) (2024.2)\n",
      "Requirement already satisfied: six>=1.5 in c:\\users\\yesha\\appdata\\local\\packages\\pythonsoftwarefoundation.python.3.10_qbz5n2kfra8p0\\localcache\\local-packages\\python310\\site-packages (from python-dateutil>=2.8.2->pandas!=2.1.0,>=1.4->statsmodels) (1.16.0)\n",
      "Downloading statsmodels-0.14.4-cp310-cp310-win_amd64.whl (9.8 MB)\n",
      "   ---------------------------------------- 0.0/9.8 MB ? eta -:--:--\n",
      "   --------------------------- ------------ 6.8/9.8 MB 38.1 MB/s eta 0:00:01\n",
      "   ---------------------------------------- 9.8/9.8 MB 36.2 MB/s eta 0:00:00\n",
      "Using cached patsy-1.0.1-py2.py3-none-any.whl (232 kB)\n",
      "Installing collected packages: patsy, statsmodels\n",
      "\n",
      "   ---------------------------------------- 0/2 [patsy]\n",
      "   ---------------------------------------- 0/2 [patsy]\n",
      "   ---------------------------------------- 0/2 [patsy]\n",
      "   -------------------- ------------------- 1/2 [statsmodels]\n",
      "   -------------------- ------------------- 1/2 [statsmodels]\n",
      "   -------------------- ------------------- 1/2 [statsmodels]\n",
      "   -------------------- ------------------- 1/2 [statsmodels]\n",
      "   -------------------- ------------------- 1/2 [statsmodels]\n",
      "   -------------------- ------------------- 1/2 [statsmodels]\n",
      "   -------------------- ------------------- 1/2 [statsmodels]\n",
      "   -------------------- ------------------- 1/2 [statsmodels]\n",
      "   -------------------- ------------------- 1/2 [statsmodels]\n",
      "   -------------------- ------------------- 1/2 [statsmodels]\n",
      "   -------------------- ------------------- 1/2 [statsmodels]\n",
      "   -------------------- ------------------- 1/2 [statsmodels]\n",
      "   -------------------- ------------------- 1/2 [statsmodels]\n",
      "   -------------------- ------------------- 1/2 [statsmodels]\n",
      "   -------------------- ------------------- 1/2 [statsmodels]\n",
      "   -------------------- ------------------- 1/2 [statsmodels]\n",
      "   -------------------- ------------------- 1/2 [statsmodels]\n",
      "   -------------------- ------------------- 1/2 [statsmodels]\n",
      "   -------------------- ------------------- 1/2 [statsmodels]\n",
      "   -------------------- ------------------- 1/2 [statsmodels]\n",
      "   -------------------- ------------------- 1/2 [statsmodels]\n",
      "   -------------------- ------------------- 1/2 [statsmodels]\n",
      "   -------------------- ------------------- 1/2 [statsmodels]\n",
      "   -------------------- ------------------- 1/2 [statsmodels]\n",
      "   -------------------- ------------------- 1/2 [statsmodels]\n",
      "   -------------------- ------------------- 1/2 [statsmodels]\n",
      "   -------------------- ------------------- 1/2 [statsmodels]\n",
      "   -------------------- ------------------- 1/2 [statsmodels]\n",
      "   -------------------- ------------------- 1/2 [statsmodels]\n",
      "   -------------------- ------------------- 1/2 [statsmodels]\n",
      "   -------------------- ------------------- 1/2 [statsmodels]\n",
      "   -------------------- ------------------- 1/2 [statsmodels]\n",
      "   -------------------- ------------------- 1/2 [statsmodels]\n",
      "   -------------------- ------------------- 1/2 [statsmodels]\n",
      "   -------------------- ------------------- 1/2 [statsmodels]\n",
      "   -------------------- ------------------- 1/2 [statsmodels]\n",
      "   -------------------- ------------------- 1/2 [statsmodels]\n",
      "   -------------------- ------------------- 1/2 [statsmodels]\n",
      "   -------------------- ------------------- 1/2 [statsmodels]\n",
      "   -------------------- ------------------- 1/2 [statsmodels]\n",
      "   -------------------- ------------------- 1/2 [statsmodels]\n",
      "   -------------------- ------------------- 1/2 [statsmodels]\n",
      "   -------------------- ------------------- 1/2 [statsmodels]\n",
      "   -------------------- ------------------- 1/2 [statsmodels]\n",
      "   -------------------- ------------------- 1/2 [statsmodels]\n",
      "   -------------------- ------------------- 1/2 [statsmodels]\n",
      "   -------------------- ------------------- 1/2 [statsmodels]\n",
      "   -------------------- ------------------- 1/2 [statsmodels]\n",
      "   -------------------- ------------------- 1/2 [statsmodels]\n",
      "   -------------------- ------------------- 1/2 [statsmodels]\n",
      "   -------------------- ------------------- 1/2 [statsmodels]\n",
      "   -------------------- ------------------- 1/2 [statsmodels]\n",
      "   -------------------- ------------------- 1/2 [statsmodels]\n",
      "   -------------------- ------------------- 1/2 [statsmodels]\n",
      "   -------------------- ------------------- 1/2 [statsmodels]\n",
      "   -------------------- ------------------- 1/2 [statsmodels]\n",
      "   -------------------- ------------------- 1/2 [statsmodels]\n",
      "   -------------------- ------------------- 1/2 [statsmodels]\n",
      "   -------------------- ------------------- 1/2 [statsmodels]\n",
      "   -------------------- ------------------- 1/2 [statsmodels]\n",
      "   -------------------- ------------------- 1/2 [statsmodels]\n",
      "   -------------------- ------------------- 1/2 [statsmodels]\n",
      "   -------------------- ------------------- 1/2 [statsmodels]\n",
      "   -------------------- ------------------- 1/2 [statsmodels]\n",
      "   -------------------- ------------------- 1/2 [statsmodels]\n",
      "   -------------------- ------------------- 1/2 [statsmodels]\n",
      "   -------------------- ------------------- 1/2 [statsmodels]\n",
      "   -------------------- ------------------- 1/2 [statsmodels]\n",
      "   -------------------- ------------------- 1/2 [statsmodels]\n",
      "   -------------------- ------------------- 1/2 [statsmodels]\n",
      "   -------------------- ------------------- 1/2 [statsmodels]\n",
      "   -------------------- ------------------- 1/2 [statsmodels]\n",
      "   -------------------- ------------------- 1/2 [statsmodels]\n",
      "   -------------------- ------------------- 1/2 [statsmodels]\n",
      "   -------------------- ------------------- 1/2 [statsmodels]\n",
      "   -------------------- ------------------- 1/2 [statsmodels]\n",
      "   -------------------- ------------------- 1/2 [statsmodels]\n",
      "   -------------------- ------------------- 1/2 [statsmodels]\n",
      "   -------------------- ------------------- 1/2 [statsmodels]\n",
      "   -------------------- ------------------- 1/2 [statsmodels]\n",
      "   -------------------- ------------------- 1/2 [statsmodels]\n",
      "   -------------------- ------------------- 1/2 [statsmodels]\n",
      "   -------------------- ------------------- 1/2 [statsmodels]\n",
      "   -------------------- ------------------- 1/2 [statsmodels]\n",
      "   -------------------- ------------------- 1/2 [statsmodels]\n",
      "   -------------------- ------------------- 1/2 [statsmodels]\n",
      "   -------------------- ------------------- 1/2 [statsmodels]\n",
      "   -------------------- ------------------- 1/2 [statsmodels]\n",
      "   -------------------- ------------------- 1/2 [statsmodels]\n",
      "   -------------------- ------------------- 1/2 [statsmodels]\n",
      "   -------------------- ------------------- 1/2 [statsmodels]\n",
      "   -------------------- ------------------- 1/2 [statsmodels]\n",
      "   -------------------- ------------------- 1/2 [statsmodels]\n",
      "   -------------------- ------------------- 1/2 [statsmodels]\n",
      "   -------------------- ------------------- 1/2 [statsmodels]\n",
      "   -------------------- ------------------- 1/2 [statsmodels]\n",
      "   -------------------- ------------------- 1/2 [statsmodels]\n",
      "   -------------------- ------------------- 1/2 [statsmodels]\n",
      "   -------------------- ------------------- 1/2 [statsmodels]\n",
      "   -------------------- ------------------- 1/2 [statsmodels]\n",
      "   -------------------- ------------------- 1/2 [statsmodels]\n",
      "   -------------------- ------------------- 1/2 [statsmodels]\n",
      "   ---------------------------------------- 2/2 [statsmodels]\n",
      "\n",
      "Successfully installed patsy-1.0.1 statsmodels-0.14.4\n"
     ]
    }
   ],
   "source": [
    "import sys\n",
    "!{sys.executable} -m pip install statsmodels"
   ]
  },
  {
   "cell_type": "code",
   "execution_count": 2,
   "metadata": {},
   "outputs": [],
   "source": [
    "import os\n",
    "import pandas as pd\n",
    "import numpy as np\n",
    "import seaborn as sns\n",
    "import statsmodels.api as sm\n",
    "from statsmodels.formula.api import ols\n",
    "import matplotlib.pyplot as plt\n",
    "from scipy.stats import f_oneway\n",
    "from sklearn.preprocessing import MinMaxScaler\n",
    "import warnings\n",
    "warnings.filterwarnings('ignore')  # Suppress warnings for cleaner output"
   ]
  },
  {
   "cell_type": "markdown",
   "metadata": {},
   "source": [
    "Combine the csv file of all Clustered color profile and video metrics using the Video ID "
   ]
  },
  {
   "cell_type": "code",
   "execution_count": 3,
   "metadata": {},
   "outputs": [],
   "source": [
    "# Combine all Cluster data and color profile percentage into one DataFrame\n",
    "color_profile_data = pd.read_csv('Final_Clustering/K=9/Cluster_Color_Profile_Final.csv')\n",
    "\n",
    "# Load video engagement data\n",
    "video_data = pd.read_csv('Final_Clustering/Results_Count_Final.csv')"
   ]
  },
  {
   "cell_type": "markdown",
   "metadata": {},
   "source": [
    "Get rid of the '.jpg' in the video ID in Clustered Color Profile"
   ]
  },
  {
   "cell_type": "code",
   "execution_count": 4,
   "metadata": {},
   "outputs": [
    {
     "name": "stdout",
     "output_type": "stream",
     "text": [
      "\n",
      "Cleaned Sample IDs from color_profile_data:\n",
      "0    --8n6A8Q6M0\n",
      "1    -0FfyNZdHk0\n",
      "2    -1B7cVoZr1c\n",
      "3    -4yu_13EHFM\n",
      "4    -6FvAU9H98w\n",
      "Name: VideoID, dtype: object\n"
     ]
    }
   ],
   "source": [
    "# Remove the .jpg extension from the VideoID in color_profile_data\n",
    "color_profile_data['VideoID'] = color_profile_data['VideoID'].str.replace('.jpg', '')\n",
    "\n",
    "# Check again after cleaning\n",
    "print(\"\\nCleaned Sample IDs from color_profile_data:\")\n",
    "print(color_profile_data['VideoID'].head())"
   ]
  },
  {
   "cell_type": "code",
   "execution_count": 5,
   "metadata": {},
   "outputs": [
    {
     "name": "stdout",
     "output_type": "stream",
     "text": [
      "\n",
      "Clustered Color Profile Data:\n",
      "       VideoID  Yellow  Orange  Red  Violet  Blue  Green  Black  White  Brown  \\\n",
      "0  --8n6A8Q6M0    0.00    0.71  0.0   23.29  0.06   0.00  13.58  13.01  49.35   \n",
      "1  -0FfyNZdHk0    0.01    0.97  0.0   11.65  0.00   8.13  26.25  13.26  39.73   \n",
      "2  -1B7cVoZr1c    0.84    0.61  0.0   16.56  7.08   0.00  14.65  32.05  28.21   \n",
      "3  -4yu_13EHFM    0.00    8.72  0.0   25.99  0.00   0.00  14.83  10.53  39.93   \n",
      "4  -6FvAU9H98w    0.11   10.24  0.7    6.79  0.04   0.00  12.74  39.01  30.37   \n",
      "\n",
      "   Cluster  \n",
      "0        1  \n",
      "1        5  \n",
      "2        2  \n",
      "3        1  \n",
      "4        2  \n",
      "\n",
      "Number of rows and columns in text_data: (2587, 11)\n",
      "\n",
      "Video Engagement Data:\n",
      "       VideoID  View Count  Like Count  Comment Count\n",
      "0  --8n6A8Q6M0      338385       11044           1371\n",
      "1  -0FfyNZdHk0         147           4              1\n",
      "2  -1B7cVoZr1c      150876        3011            225\n",
      "3  -4yu_13EHFM       28277        1158            381\n",
      "4  -6FvAU9H98w       63409        1277            110\n",
      "\n",
      "Number of rows and columns in video_data: (3715, 4)\n"
     ]
    }
   ],
   "source": [
    "# Display the first few rows of both datasets\n",
    "print(\"\\nClustered Color Profile Data:\")\n",
    "print(color_profile_data.head())\n",
    "print(\"\\nNumber of rows and columns in text_data:\", color_profile_data.shape)\n",
    "\n",
    "print(\"\\nVideo Engagement Data:\")\n",
    "print(video_data.head())\n",
    "print(\"\\nNumber of rows and columns in video_data:\", video_data.shape)"
   ]
  },
  {
   "cell_type": "code",
   "execution_count": 6,
   "metadata": {},
   "outputs": [
    {
     "name": "stdout",
     "output_type": "stream",
     "text": [
      "\n",
      "Merged Dataset:\n",
      "       VideoID  Yellow  Orange  Red  Violet  Blue  Green  Black  White  Brown  \\\n",
      "0  --8n6A8Q6M0    0.00    0.71  0.0   23.29  0.06   0.00  13.58  13.01  49.35   \n",
      "1  -0FfyNZdHk0    0.01    0.97  0.0   11.65  0.00   8.13  26.25  13.26  39.73   \n",
      "2  -1B7cVoZr1c    0.84    0.61  0.0   16.56  7.08   0.00  14.65  32.05  28.21   \n",
      "3  -4yu_13EHFM    0.00    8.72  0.0   25.99  0.00   0.00  14.83  10.53  39.93   \n",
      "4  -6FvAU9H98w    0.11   10.24  0.7    6.79  0.04   0.00  12.74  39.01  30.37   \n",
      "\n",
      "   Cluster  View Count  Like Count  Comment Count            Channel Title  \n",
      "0        1      338385       11044           1371  Travel with Luke Damant  \n",
      "1        5         147           4              1        Learn with Daryll  \n",
      "2        2      150876        3011            225      Combat Arms Channel  \n",
      "3        1       28277        1158            381         Chasing Kimberly  \n",
      "4        2       63409        1277            110          Paolo fromTOKYO  \n",
      "\n",
      "Number of rows and columns: (2568, 15)\n"
     ]
    }
   ],
   "source": [
    "# Merge datasets on 'Video ID'\n",
    "merged_data = pd.merge(color_profile_data, video_data, on='VideoID', how='inner')\n",
    "\n",
    "# Read the results_final.csv file\n",
    "results_df = pd.read_csv('results_final.csv')\n",
    "\n",
    "# Rename the 'Video Id' column to 'VideoID' in results_df to match merged_data\n",
    "results_df = results_df.rename(columns={'Video Id': 'VideoID'})\n",
    "\n",
    "# Merge the Channel Title from results_df into merged_data\n",
    "merged_data = pd.merge(merged_data, results_df[['VideoID', 'Channel Title']], on='VideoID', how='inner')\n",
    "\n",
    "\n",
    "# Check the merged dataset\n",
    "print(\"\\nMerged Dataset:\")\n",
    "print(merged_data.head())\n",
    "\n",
    "# Display the number of rows and columns\n",
    "print(\"\\nNumber of rows and columns:\", merged_data.shape)"
   ]
  },
  {
   "cell_type": "markdown",
   "metadata": {},
   "source": [
    "Check the number of channels per cluster, to see the difference on each channel"
   ]
  },
  {
   "cell_type": "code",
   "execution_count": 7,
   "metadata": {},
   "outputs": [
    {
     "name": "stdout",
     "output_type": "stream",
     "text": [
      "\n",
      "Top 10 channels per cluster:\n",
      "\n",
      "Cluster 0:\n",
      "Channel: Music Game News - Videos: 24\n",
      "Channel: Nic & Rei - Videos: 18\n",
      "Channel: Pinoy Planet - Videos: 12\n",
      "Channel: Adam and Jane's Lifestyle - Videos: 6\n",
      "Channel: KIM n LEE - Videos: 6\n",
      "Channel: Waleska Herrera - Videos: 6\n",
      "Channel: Beryl Shereshewsky - Videos: 5\n",
      "Channel: FoodieMommaPH - Videos: 5\n",
      "Channel: People Vs Food - Videos: 5\n",
      "Channel: Big Guy Appetite - Videos: 4\n",
      "\n",
      "Cluster 1:\n",
      "Channel: Waleska Herrera - Videos: 70\n",
      "Channel: Adam and Jane's Lifestyle - Videos: 32\n",
      "Channel: The Commodity - Videos: 22\n",
      "Channel: Pinoy Planet - Videos: 17\n",
      "Channel: The Demouchets REACT - Videos: 16\n",
      "Channel: TPL Bianca - Videos: 15\n",
      "Channel: Justin & Alina - Videos: 13\n",
      "Channel: Ken Abroad - Videos: 13\n",
      "Channel: Aaron Around - Videos: 10\n",
      "Channel: VI3ION - Videos: 10\n",
      "\n",
      "Cluster 2:\n",
      "Channel: Japapino World ジャパピーノ - Videos: 10\n",
      "Channel: Pinoy Planet - Videos: 8\n",
      "Channel: JUICY REACTS - Videos: 7\n",
      "Channel: Nic & Rei - Videos: 7\n",
      "Channel: Paolo fromTOKYO - Videos: 7\n",
      "Channel: Waleska Herrera - Videos: 7\n",
      "Channel: KIM n LEE - Videos: 6\n",
      "Channel: Mia Sandoval - Videos: 6\n",
      "Channel: Beryl Shereshewsky - Videos: 5\n",
      "Channel: Ash and Kels - Videos: 4\n",
      "\n",
      "Cluster 3:\n",
      "Channel: Pinoy Planet - Videos: 11\n",
      "Channel: American Entrepreneur in the Philippines - Videos: 4\n",
      "Channel: Ken Abroad - Videos: 3\n",
      "Channel: The Love Train Nation - Videos: 3\n",
      "Channel: Travis Kraft - Videos: 3\n",
      "Channel: TriFate Geo - Videos: 3\n",
      "Channel: Andjobe - Videos: 2\n",
      "Channel: BordersLess Asia - Videos: 2\n",
      "Channel: CHACHII-CHAN - Videos: 2\n",
      "Channel: Cherry and Trevor - Videos: 2\n",
      "\n",
      "Cluster 4:\n",
      "Channel: The Love Train Nation - Videos: 10\n",
      "Channel: Owl of Asia - Videos: 4\n",
      "Channel: Pinoy Planet - Videos: 2\n",
      "Channel: Waleska Herrera - Videos: 2\n",
      "Channel: Alex Fokanoff - Videos: 1\n",
      "Channel: BuzzFeed UK - Videos: 1\n",
      "Channel: D&J REACT - Videos: 1\n",
      "Channel: Foodie Legends - Videos: 1\n",
      "Channel: JREKML - Videos: 1\n",
      "Channel: La Ferpection - Videos: 1\n",
      "\n",
      "Cluster 5:\n",
      "Channel: The Garcia Family - Videos: 34\n",
      "Channel: TriFate Geo - Videos: 11\n",
      "Channel: Pinoy Planet - Videos: 8\n",
      "Channel: RegenerationNationTV - Videos: 4\n",
      "Channel: Mantas Gričėnas - Videos: 2\n",
      "Channel: RapidVisa - Videos: 2\n",
      "Channel: Waleska Herrera - Videos: 2\n",
      "Channel: 10 Tampa Bay - Videos: 1\n",
      "Channel: Ali and Lyn Diaries - Videos: 1\n",
      "Channel: Always Be Changing - Videos: 1\n",
      "\n",
      "Cluster 6:\n",
      "Channel: Waleska Herrera - Videos: 19\n",
      "Channel: The Commodity - Videos: 16\n",
      "Channel: JREKML - Videos: 9\n",
      "Channel: American Entrepreneur in the Philippines - Videos: 6\n",
      "Channel: AmysCrypt - Videos: 6\n",
      "Channel: TriFate Lifestyle - Videos: 6\n",
      "Channel: Reação Imediata - Videos: 5\n",
      "Channel: Jeanelleats - Videos: 4\n",
      "Channel: NOW UNITED - Videos: 4\n",
      "Channel: Pinoy Planet - Videos: 4\n",
      "\n",
      "Cluster 7:\n",
      "Channel: Waleska Herrera - Videos: 41\n",
      "Channel: Pinoy Planet - Videos: 17\n",
      "Channel: Mia Sandoval - Videos: 13\n",
      "Channel: TriFate Geo - Videos: 9\n",
      "Channel: KIM n LEE - Videos: 8\n",
      "Channel: Adam and Jane's Lifestyle - Videos: 7\n",
      "Channel: Ken Abroad - Videos: 7\n",
      "Channel: TPL Bianca - Videos: 7\n",
      "Channel: Aaron Around - Videos: 6\n",
      "Channel: JUICY REACTS - Videos: 6\n",
      "\n",
      "Cluster 8:\n",
      "Channel: TriFate Geo - Videos: 17\n",
      "Channel: Pinoy Planet - Videos: 10\n",
      "Channel: Brad Newton - Videos: 5\n",
      "Channel: The Juicy Vlog - Videos: 5\n",
      "Channel: The Bailey Squad - Videos: 4\n",
      "Channel: 2Passports 1Dream - Videos: 3\n",
      "Channel: Dan and Lyn - Videos: 3\n",
      "Channel: Aurora's Vlog - Videos: 2\n",
      "Channel: Bigg World Cinema - Videos: 2\n",
      "Channel: CharlieWayne Adventures - Videos: 2\n"
     ]
    }
   ],
   "source": [
    "# Group by Cluster and Channel Title, then count videos\n",
    "cluster_channel_counts = merged_data.groupby(['Cluster', 'Channel Title']).size().reset_index(name='Video Count')\n",
    "\n",
    "# Sort by Cluster and Video Count in descending order\n",
    "cluster_channel_counts = cluster_channel_counts.sort_values(['Cluster', 'Video Count'], ascending=[True, False])\n",
    "\n",
    "# Create a list to store the top 10 channels per cluster\n",
    "top_channels = []\n",
    "\n",
    "# Get top 10 channels for each cluster\n",
    "for cluster in sorted(cluster_channel_counts['Cluster'].unique()):\n",
    "    # Get top 10 channels for this cluster\n",
    "    cluster_data = cluster_channel_counts[cluster_channel_counts['Cluster'] == cluster].nlargest(10, 'Video Count')\n",
    "    \n",
    "    # Add cluster header\n",
    "    top_channels.append({\n",
    "        'Cluster': f\"Cluster {cluster}\",\n",
    "        'Channel': '---',\n",
    "        'Video Count': '---'\n",
    "    })\n",
    "    \n",
    "    # Add top 10 channels\n",
    "    for _, row in cluster_data.iterrows():\n",
    "        top_channels.append({\n",
    "            'Cluster': '',\n",
    "            'Channel': row['Channel Title'],\n",
    "            'Video Count': row['Video Count']\n",
    "        })\n",
    "\n",
    "# Create DataFrame from formatted results\n",
    "result_df = pd.DataFrame(top_channels)\n",
    "\n",
    "# Save to CSV\n",
    "result_df.to_csv('Final_clustering/K=9/Correlational/top_channels_per_cluster.csv', index=False)\n",
    "\n",
    "# Print the results\n",
    "print(\"\\nTop 10 channels per cluster:\")\n",
    "for cluster in sorted(cluster_channel_counts['Cluster'].unique()):\n",
    "    cluster_data = cluster_channel_counts[cluster_channel_counts['Cluster'] == cluster].nlargest(10, 'Video Count')\n",
    "    print(f\"\\nCluster {cluster}:\")\n",
    "    for _, row in cluster_data.iterrows():\n",
    "        print(f\"Channel: {row['Channel Title']} - Videos: {row['Video Count']}\")"
   ]
  },
  {
   "cell_type": "markdown",
   "metadata": {},
   "source": [
    "Get the Channel weight of each"
   ]
  },
  {
   "cell_type": "code",
   "execution_count": 8,
   "metadata": {},
   "outputs": [],
   "source": [
    "# Step 1: Calculate Channel Weights\n",
    "channel_frequencies = merged_data.groupby('Channel Title').size()\n",
    "channel_weights = 1 / (channel_frequencies + 1)  # Avoid division by zero\n",
    "channel_weights /= channel_weights.sum()  # Normalize weights to sum to 1\n",
    "\n",
    "# Add weights to the dataset\n",
    "merged_data['Channel_Weight'] = merged_data['Channel Title'].map(channel_weights)\n",
    "\n",
    "merged_data.to_csv('Final_clustering/K=9/Correlational/new/channel_weighted_data.csv', index=False)"
   ]
  },
  {
   "cell_type": "markdown",
   "metadata": {},
   "source": [
    "## ANOVA"
   ]
  },
  {
   "cell_type": "markdown",
   "metadata": {},
   "source": [
    "Collect Metric Data by Cluster"
   ]
  },
  {
   "cell_type": "code",
   "execution_count": 10,
   "metadata": {},
   "outputs": [
    {
     "name": "stdout",
     "output_type": "stream",
     "text": [
      "Metrics selected for analysis: View Count, Like Count, Comment Count\n"
     ]
    }
   ],
   "source": [
    "# Define which video metric columns to analyze\n",
    "metric_columns_for_anova = ['View Count', 'Like Count', 'Comment Count']\n",
    "print(f\"Metrics selected for analysis: {', '.join(metric_columns_for_anova)}\")"
   ]
  },
  {
   "cell_type": "markdown",
   "metadata": {},
   "source": [
    "Remove Outliers"
   ]
  },
  {
   "cell_type": "code",
   "execution_count": 11,
   "metadata": {},
   "outputs": [],
   "source": [
    "def remove_outliers_iqr(df, column):\n",
    "    Q1 = df[column].quantile(0.25)\n",
    "    Q3 = df[column].quantile(0.75)\n",
    "    IQR = Q3 - Q1\n",
    "    lower = Q1 - 1.5 * IQR\n",
    "    upper = Q3 + 1.5 * IQR\n",
    "    return df[(df[column] >= lower) & (df[column] <= upper)]\n",
    "\n",
    "# Apply outlier removal\n",
    "filtered_data = remove_outliers_iqr(merged_data, 'View Count')"
   ]
  },
  {
   "cell_type": "code",
   "execution_count": 12,
   "metadata": {},
   "outputs": [
    {
     "data": {
      "image/png": "[encoded data removed]",
      "text/plain": [
       "<Figure size 1200x500 with 2 Axes>"
      ]
     },
     "metadata": {},
     "output_type": "display_data"
    }
   ],
   "source": [
    "plt.figure(figsize=(12, 5))\n",
    "\n",
    "plt.subplot(1, 2, 1)\n",
    "sns.boxplot(x=merged_data['View Count'])\n",
    "plt.title('View Count (With Outliers)')\n",
    "\n",
    "plt.subplot(1, 2, 2)\n",
    "sns.boxplot(x=filtered_data['View Count'])\n",
    "plt.title('View Count (Without Outliers)')\n",
    "\n",
    "plt.tight_layout()\n",
    "plt.show()"
   ]
  },
  {
   "cell_type": "code",
   "execution_count": 14,
   "metadata": {},
   "outputs": [
    {
     "data": {
      "image/png": "[encoded data removed]",
      "text/plain": [
       "<Figure size 1000x600 with 1 Axes>"
      ]
     },
     "metadata": {},
     "output_type": "display_data"
    }
   ],
   "source": [
    "plt.figure(figsize=(10, 6))\n",
    "sns.boxplot(x='Cluster', y='View Count', data=filtered_data, palette='Set2')\n",
    "plt.title('View Count by Cluster (Outliers Removed)')\n",
    "plt.xlabel('Color Cluster')\n",
    "plt.ylabel('View Count')\n",
    "plt.grid(True)\n",
    "plt.show()"
   ]
  },
  {
   "cell_type": "code",
   "execution_count": 19,
   "metadata": {},
   "outputs": [
    {
     "name": "stdout",
     "output_type": "stream",
     "text": [
      "        VideoID  Yellow  Orange   Red  Violet   Blue  Green  Black  White  \\\n",
      "0   --8n6A8Q6M0    0.00    0.71  0.00   23.29   0.06   0.00  13.58  13.01   \n",
      "1   -0FfyNZdHk0    0.01    0.97  0.00   11.65   0.00   8.13  26.25  13.26   \n",
      "2   -1B7cVoZr1c    0.84    0.61  0.00   16.56   7.08   0.00  14.65  32.05   \n",
      "3   -4yu_13EHFM    0.00    8.72  0.00   25.99   0.00   0.00  14.83  10.53   \n",
      "4   -6FvAU9H98w    0.11   10.24  0.70    6.79   0.04   0.00  12.74  39.01   \n",
      "5   -7vF5F-1btE    0.64    2.76  1.08   22.39  14.17   0.00  16.90  11.52   \n",
      "6   -9ACKA4sQ4U    0.00    5.48  0.00    5.10   0.00   0.00  30.14  23.86   \n",
      "8   -fWzHd63UCA    0.25    1.84  0.00   11.64   0.00   0.00  44.48   9.39   \n",
      "9   -GVbt3qdq70    0.00    1.78  0.09   14.24   0.28   0.09  33.25   2.88   \n",
      "10  -JTkbbE_KP4    0.25    8.82  0.00   18.27   0.45   0.00   9.52   4.28   \n",
      "\n",
      "    Brown Cluster  View Count  Like Count  Comment Count  \\\n",
      "0   49.35       1      338385       11044           1371   \n",
      "1   39.73       5         147           4              1   \n",
      "2   28.21       2      150876        3011            225   \n",
      "3   39.93       1       28277        1158            381   \n",
      "4   30.37       2       63409        1277            110   \n",
      "5   30.54       3       87790        4502            177   \n",
      "6   35.42       1         162           0              0   \n",
      "8   32.40       6      474195       11212           1279   \n",
      "9   47.39       1      306703        9252            319   \n",
      "10  58.41       1      120938        2386            197   \n",
      "\n",
      "              Channel Title  Channel_Weight  \n",
      "0   Travel with Luke Damant        0.000348  \n",
      "1         Learn with Daryll        0.002090  \n",
      "2       Combat Arms Channel        0.001045  \n",
      "3          Chasing Kimberly        0.000523  \n",
      "4           Paolo fromTOKYO        0.000418  \n",
      "5              Pinoy Planet        0.000046  \n",
      "6     🌻Mama Mia's Foodtrip🌻        0.002090  \n",
      "8             The Commodity        0.000080  \n",
      "9           Waleska Herrera        0.000028  \n",
      "10                T HUBS 22        0.001393  \n"
     ]
    }
   ],
   "source": [
    "print(filtered_data.head(10))"
   ]
  },
  {
   "cell_type": "code",
   "execution_count": 20,
   "metadata": {},
   "outputs": [
    {
     "ename": "AttributeError",
     "evalue": "'ModelData' object has no attribute 'design_info'",
     "output_type": "error",
     "traceback": [
      "\u001b[1;31m---------------------------------------------------------------------------\u001b[0m",
      "\u001b[1;31mAttributeError\u001b[0m                            Traceback (most recent call last)",
      "Cell \u001b[1;32mIn[20], line 21\u001b[0m\n\u001b[0;32m     14\u001b[0m wls_model \u001b[38;5;241m=\u001b[39m sm\u001b[38;5;241m.\u001b[39mWLS(\n\u001b[0;32m     15\u001b[0m     model\u001b[38;5;241m.\u001b[39mmodel\u001b[38;5;241m.\u001b[39mendog,         \u001b[38;5;66;03m# Y variable (ViewCount)\u001b[39;00m\n\u001b[0;32m     16\u001b[0m     model\u001b[38;5;241m.\u001b[39mmodel\u001b[38;5;241m.\u001b[39mexog,          \u001b[38;5;66;03m# X variables (Cluster dummies)\u001b[39;00m\n\u001b[0;32m     17\u001b[0m     weights\u001b[38;5;241m=\u001b[39mfiltered_data[\u001b[38;5;124m'\u001b[39m\u001b[38;5;124mChannel_Weight\u001b[39m\u001b[38;5;124m'\u001b[39m]  \u001b[38;5;66;03m# Apply channel weights\u001b[39;00m\n\u001b[0;32m     18\u001b[0m )\u001b[38;5;241m.\u001b[39mfit()\n\u001b[0;32m     20\u001b[0m \u001b[38;5;66;03m# Print ANOVA-style summary\u001b[39;00m\n\u001b[1;32m---> 21\u001b[0m anova_table \u001b[38;5;241m=\u001b[39m \u001b[43msm\u001b[49m\u001b[38;5;241;43m.\u001b[39;49m\u001b[43mstats\u001b[49m\u001b[38;5;241;43m.\u001b[39;49m\u001b[43manova_lm\u001b[49m\u001b[43m(\u001b[49m\u001b[43mwls_model\u001b[49m\u001b[43m,\u001b[49m\u001b[43m \u001b[49m\u001b[43mtyp\u001b[49m\u001b[38;5;241;43m=\u001b[39;49m\u001b[38;5;241;43m2\u001b[39;49m\u001b[43m)\u001b[49m\n\u001b[0;32m     22\u001b[0m \u001b[38;5;28mprint\u001b[39m(\u001b[38;5;124m\"\u001b[39m\u001b[38;5;124m## Weighted ANOVA Results ##\u001b[39m\u001b[38;5;124m\"\u001b[39m)\n\u001b[0;32m     23\u001b[0m \u001b[38;5;28mprint\u001b[39m(anova_table)\n",
      "File \u001b[1;32m~\\AppData\\Local\\Packages\\PythonSoftwareFoundation.Python.3.10_qbz5n2kfra8p0\\LocalCache\\local-packages\\Python310\\site-packages\\statsmodels\\stats\\anova.py:353\u001b[0m, in \u001b[0;36manova_lm\u001b[1;34m(*args, **kwargs)\u001b[0m\n\u001b[0;32m    351\u001b[0m \u001b[38;5;28;01mif\u001b[39;00m \u001b[38;5;28mlen\u001b[39m(args) \u001b[38;5;241m==\u001b[39m \u001b[38;5;241m1\u001b[39m:\n\u001b[0;32m    352\u001b[0m     model \u001b[38;5;241m=\u001b[39m args[\u001b[38;5;241m0\u001b[39m]\n\u001b[1;32m--> 353\u001b[0m     \u001b[38;5;28;01mreturn\u001b[39;00m anova_single(model, \u001b[38;5;241m*\u001b[39m\u001b[38;5;241m*\u001b[39mkwargs)\n\u001b[0;32m    355\u001b[0m \u001b[38;5;28;01mif\u001b[39;00m typ \u001b[38;5;129;01mnot\u001b[39;00m \u001b[38;5;129;01min\u001b[39;00m [\u001b[38;5;241m1\u001b[39m, \u001b[38;5;124m\"\u001b[39m\u001b[38;5;124mI\u001b[39m\u001b[38;5;124m\"\u001b[39m]:\n\u001b[0;32m    356\u001b[0m     \u001b[38;5;28;01mraise\u001b[39;00m \u001b[38;5;167;01mValueError\u001b[39;00m(\u001b[38;5;124m\"\u001b[39m\u001b[38;5;124mMultiple models only supported for type I. \u001b[39m\u001b[38;5;124m\"\u001b[39m\n\u001b[0;32m    357\u001b[0m                      \u001b[38;5;124m\"\u001b[39m\u001b[38;5;124mGot type \u001b[39m\u001b[38;5;132;01m%s\u001b[39;00m\u001b[38;5;124m\"\u001b[39m \u001b[38;5;241m%\u001b[39m \u001b[38;5;28mstr\u001b[39m(typ))\n",
      "File \u001b[1;32m~\\AppData\\Local\\Packages\\PythonSoftwareFoundation.Python.3.10_qbz5n2kfra8p0\\LocalCache\\local-packages\\Python310\\site-packages\\statsmodels\\stats\\anova.py:70\u001b[0m, in \u001b[0;36manova_single\u001b[1;34m(model, **kwargs)\u001b[0m\n\u001b[0;32m     67\u001b[0m nobs \u001b[38;5;241m=\u001b[39m exog\u001b[38;5;241m.\u001b[39mshape[\u001b[38;5;241m0\u001b[39m]\n\u001b[0;32m     69\u001b[0m response_name \u001b[38;5;241m=\u001b[39m model\u001b[38;5;241m.\u001b[39mmodel\u001b[38;5;241m.\u001b[39mendog_names\n\u001b[1;32m---> 70\u001b[0m design_info \u001b[38;5;241m=\u001b[39m \u001b[43mmodel\u001b[49m\u001b[38;5;241;43m.\u001b[39;49m\u001b[43mmodel\u001b[49m\u001b[38;5;241;43m.\u001b[39;49m\u001b[43mdata\u001b[49m\u001b[38;5;241;43m.\u001b[39;49m\u001b[43mdesign_info\u001b[49m\n\u001b[0;32m     71\u001b[0m exog_names \u001b[38;5;241m=\u001b[39m model\u001b[38;5;241m.\u001b[39mmodel\u001b[38;5;241m.\u001b[39mexog_names\n\u001b[0;32m     72\u001b[0m \u001b[38;5;66;03m# +1 for resids\u001b[39;00m\n",
      "\u001b[1;31mAttributeError\u001b[0m: 'ModelData' object has no attribute 'design_info'"
     ]
    }
   ],
   "source": [
    "# --- 1. Ensure Column Names Are Valid ---\n",
    "# Rename columns to remove spaces so they work with formula API\n",
    "filtered_data.columns = filtered_data.columns.str.replace(' ', '')  # e.g., 'View Count' → 'ViewCount'\n",
    "\n",
    "# Optional: Make sure Cluster is string/categorical\n",
    "filtered_data['Cluster'] = filtered_data['Cluster'].astype(str)\n",
    "\n",
    "# --- 2. Perform Weighted ANOVA Using WLS (Weighted Least Squares) ---\n",
    "\n",
    "# Fit linear model using formula API\n",
    "model = ols('ViewCount ~ Cluster', data=filtered_data).fit()\n",
    "\n",
    "# Perform weighted regression using Channel_Weight\n",
    "wls_model = sm.WLS(\n",
    "    model.model.endog,         # Y variable (ViewCount)\n",
    "    model.model.exog,          # X variables (Cluster dummies)\n",
    "    weights=filtered_data['Channel_Weight']  # Apply channel weights\n",
    ").fit()\n",
    "\n",
    "# Print ANOVA-style summary\n",
    "anova_table = sm.stats.anova_lm(wls_model, typ=2)\n",
    "print(\"## Weighted ANOVA Results ##\")\n",
    "print(anova_table)\n",
    "\n",
    "# Interpret result\n",
    "p_value = anova_table.loc['Cluster', 'PR(>F)']\n",
    "alpha = 0.05\n",
    "\n",
    "if p_value < alpha:\n",
    "    print(f\"\\nRESULT: There are statistically significant differences in View Count between clusters (p = {p_value:.4e}).\")\n",
    "else:\n",
    "    print(f\"\\nRESULT: No significant differences in View Count between clusters (p = {p_value:.4e}).\")"
   ]
  },
  {
   "cell_type": "code",
   "execution_count": null,
   "metadata": {},
   "outputs": [],
   "source": []
  }
 ],
 "metadata": {
  "kernelspec": {
   "display_name": "Python 3",
   "language": "python",
   "name": "python3"
  },
  "language_info": {
   "codemirror_mode": {
    "name": "ipython",
    "version": 3
   },
   "file_extension": ".py",
   "mimetype": "text/x-python",
   "name": "python",
   "nbconvert_exporter": "python",
   "pygments_lexer": "ipython3",
   "version": "3.10.11"
  }
 },
 "nbformat": 4,
 "nbformat_minor": 2
}
