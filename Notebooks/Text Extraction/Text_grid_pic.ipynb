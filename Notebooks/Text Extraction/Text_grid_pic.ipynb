{
 "cells": [
  {
   "cell_type": "code",
   "execution_count": 2,
   "id": "4f5981bc",
   "metadata": {},
   "outputs": [],
   "source": [
    "import pandas as pd\n",
    "import os\n",
    "import math\n",
    "from PIL import Image"
   ]
  },
  {
   "cell_type": "code",
   "execution_count": 3,
   "id": "aec88a6a",
   "metadata": {},
   "outputs": [
    {
     "name": "stdout",
     "output_type": "stream",
     "text": [
      "Created ../Text_pic/cluster_1\\cluster_1.1.png with 50 images\n",
      "Created ../Text_pic/cluster_1\\cluster_1.2.png with 50 images\n",
      "Created ../Text_pic/cluster_1\\cluster_1.3.png with 50 images\n",
      "Created ../Text_pic/cluster_1\\cluster_1.4.png with 50 images\n",
      "Created ../Text_pic/cluster_1\\cluster_1.5.png with 50 images\n",
      "Created ../Text_pic/cluster_1\\cluster_1.6.png with 50 images\n",
      "Created ../Text_pic/cluster_1\\cluster_1.7.png with 50 images\n",
      "Created ../Text_pic/cluster_1\\cluster_1.8.png with 50 images\n",
      "Created ../Text_pic/cluster_1\\cluster_1.9.png with 50 images\n",
      "Created ../Text_pic/cluster_1\\cluster_1.10.png with 50 images\n",
      "Created ../Text_pic/cluster_1\\cluster_1.11.png with 50 images\n",
      "Created ../Text_pic/cluster_1\\cluster_1.12.png with 8 images\n"
     ]
    }
   ],
   "source": [
    "def create_cluster_grids():\n",
    "    # Read the clustered data\n",
    "    df = pd.read_csv(\"../text_clusters/df_cluster_1.csv\")    #change the file name \n",
    "    \n",
    "    # Create output directory\n",
    "    output_dir = \"../Text_pic/cluster_1\"                      #change the file name   \n",
    "    os.makedirs(output_dir, exist_ok=True)\n",
    "    \n",
    "    # Get unique clusters\n",
    "    clusters = sorted(df['cluster'].unique())\n",
    "    \n",
    "    # Set parameters\n",
    "    thumb_size = 200\n",
    "    margin = 10  # Margin between thumbnails\n",
    "    max_images_per_grid = 50\n",
    "    \n",
    "    for cluster_id in clusters:\n",
    "        # Get all images in this cluster\n",
    "        cluster_images = df[df['cluster'] == cluster_id]\n",
    "        \n",
    "        # Split into chunks of max_images_per_grid\n",
    "        total_images = len(cluster_images)\n",
    "        num_grids = math.ceil(total_images / max_images_per_grid)\n",
    "        \n",
    "        for grid_num in range(num_grids):\n",
    "            # Get subset of images for this grid\n",
    "            start_idx = grid_num * max_images_per_grid\n",
    "            end_idx = min((grid_num + 1) * max_images_per_grid, total_images)\n",
    "            current_batch = cluster_images.iloc[start_idx:end_idx]\n",
    "            \n",
    "            # Calculate grid dimensions (5 columns, n rows)\n",
    "            n_images = len(current_batch)\n",
    "            n_cols = 5\n",
    "            n_rows = math.ceil(n_images / n_cols)\n",
    "            \n",
    "            # Create a new image for the grid with margins\n",
    "            grid_width = (n_cols * thumb_size) + ((n_cols + 1) * margin)\n",
    "            grid_height = (n_rows * thumb_size) + ((n_rows + 1) * margin)\n",
    "            grid_image = Image.new('RGB', (grid_width, grid_height), 'white')\n",
    "            \n",
    "            # Place each thumbnail in the grid\n",
    "            for idx, (_, row) in enumerate(current_batch.iterrows()):\n",
    "                # Calculate position in grid with margins\n",
    "                row_idx = idx // n_cols\n",
    "                col_idx = idx % n_cols\n",
    "                \n",
    "                x_pos = margin + (col_idx * (thumb_size + margin))\n",
    "                y_pos = margin + (row_idx * (thumb_size + margin))\n",
    "                \n",
    "                # Load and resize thumbnail\n",
    "                thumb_path = os.path.join(\"../../../Thumbnails_New_Data/thumbnails-filtered\", row['Video ID'] + \".jpg\")  #change the path as needed\n",
    "                try:\n",
    "                    thumb = Image.open(thumb_path)\n",
    "                    thumb = thumb.resize((thumb_size, thumb_size))\n",
    "                    \n",
    "                    # Paste thumbnail into grid\n",
    "                    grid_image.paste(thumb, (x_pos, y_pos))\n",
    "                except Exception as e:\n",
    "                    print(f\"Error processing {row['Video ID']}: {e}\")\n",
    "            \n",
    "            # Save the grid image with appropriate numbering\n",
    "            if num_grids == 1:\n",
    "                output_path = os.path.join(output_dir, f\"cluster_{cluster_id}.png\")\n",
    "            else:\n",
    "                output_path = os.path.join(output_dir, f\"cluster_{cluster_id}.{grid_num + 1}.png\")\n",
    "            \n",
    "            grid_image.save(output_path)\n",
    "            print(f\"Created {output_path} with {n_images} images\")\n",
    "\n",
    "create_cluster_grids()"
   ]
  }
 ],
 "metadata": {
  "kernelspec": {
   "display_name": "Python 3",
   "language": "python",
   "name": "python3"
  },
  "language_info": {
   "codemirror_mode": {
    "name": "ipython",
    "version": 3
   },
   "file_extension": ".py",
   "mimetype": "text/x-python",
   "name": "python",
   "nbconvert_exporter": "python",
   "pygments_lexer": "ipython3",
   "version": "3.10.11"
  }
 },
 "nbformat": 4,
 "nbformat_minor": 5
}
